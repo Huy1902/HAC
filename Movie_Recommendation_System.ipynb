{
  "metadata": {
    "kernelspec": {
      "language": "python",
      "display_name": "Python 3",
      "name": "python3"
    },
    "language_info": {
      "name": "python",
      "version": "3.10.12",
      "mimetype": "text/x-python",
      "codemirror_mode": {
        "name": "ipython",
        "version": 3
      },
      "pygments_lexer": "ipython3",
      "nbconvert_exporter": "python",
      "file_extension": ".py"
    },
    "kaggle": {
      "accelerator": "none",
      "dataSources": [],
      "dockerImageVersionId": 30918,
      "isInternetEnabled": true,
      "language": "python",
      "sourceType": "notebook",
      "isGpuEnabled": false
    },
    "colab": {
      "name": "Movie Recommendation System",
      "provenance": [],
      "include_colab_link": true
    }
  },
  "nbformat_minor": 0,
  "nbformat": 4,
  "cells": [
    {
      "cell_type": "markdown",
      "metadata": {
        "id": "view-in-github",
        "colab_type": "text"
      },
      "source": [
        "<a href=\"https://colab.research.google.com/github/Huy1902/HAC/blob/main/Movie_Recommendation_System.ipynb\" target=\"_parent\"><img src=\"https://colab.research.google.com/assets/colab-badge.svg\" alt=\"Open In Colab\"/></a>"
      ]
    },
    {
      "cell_type": "code",
      "source": [
        "# This Python 3 environment comes with many helpful analytics libraries installed\n",
        "# It is defined by the kaggle/python Docker image: https://github.com/kaggle/docker-python\n",
        "# For example, here's several helpful packages to load\n",
        "\n",
        "import numpy as np # linear algebra\n",
        "import pandas as pd # data processing, CSV file I/O (e.g. pd.read_csv)\n",
        "\n",
        "# Input data files are available in the read-only \"../input/\" directory\n",
        "# For example, running this (by clicking run or pressing Shift+Enter) will list all files under the input directory\n",
        "\n",
        "import os\n",
        "for dirname, _, filenames in os.walk('/kaggle/input'):\n",
        "    for filename in filenames:\n",
        "        print(os.path.join(dirname, filename))\n",
        "\n",
        "# You can write up to 20GB to the current directory (/kaggle/working/) that gets preserved as output when you create a version using \"Save & Run All\"\n",
        "# You can also write temporary files to /kaggle/temp/, but they won't be saved outside of the current session"
      ],
      "metadata": {
        "_uuid": "8f2839f25d086af736a60e9eeb907d3b93b6e0e5",
        "_cell_guid": "b1076dfc-b9ad-4769-8c92-a6c4dae69d19",
        "trusted": true,
        "execution": {
          "iopub.status.busy": "2025-03-19T00:18:57.199298Z",
          "iopub.execute_input": "2025-03-19T00:18:57.199623Z",
          "iopub.status.idle": "2025-03-19T00:18:57.490132Z",
          "shell.execute_reply.started": "2025-03-19T00:18:57.1996Z",
          "shell.execute_reply": "2025-03-19T00:18:57.488891Z"
        },
        "id": "weJBxe-ISl75"
      },
      "outputs": [],
      "execution_count": null
    },
    {
      "cell_type": "code",
      "source": [
        "!pip install tabml --quiet"
      ],
      "metadata": {
        "trusted": true,
        "execution": {
          "iopub.status.busy": "2025-03-19T00:19:34.08431Z",
          "iopub.execute_input": "2025-03-19T00:19:34.084627Z",
          "iopub.status.idle": "2025-03-19T00:20:03.296136Z",
          "shell.execute_reply.started": "2025-03-19T00:19:34.084603Z",
          "shell.execute_reply": "2025-03-19T00:20:03.294939Z"
        },
        "id": "oNkBJuLVSl77",
        "outputId": "3c422f11-3641-4447-e3ef-77368505ce62"
      },
      "outputs": [
        {
          "name": "stdout",
          "text": "  Preparing metadata (setup.py) ... \u001b[?25l\u001b[?25hdone\n  Preparing metadata (setup.py) ... \u001b[?25l\u001b[?25hdone\n\u001b[2K   \u001b[90m━━━━━━━━━━━━━━━━━━━━━━━━━━━━━━━━━━━━━━━━\u001b[0m \u001b[32m61.6/61.6 kB\u001b[0m \u001b[31m3.2 MB/s\u001b[0m eta \u001b[36m0:00:00\u001b[0m\n\u001b[2K   \u001b[90m━━━━━━━━━━━━━━━━━━━━━━━━━━━━━━━━━━━━━━━━\u001b[0m \u001b[32m16.8/16.8 MB\u001b[0m \u001b[31m59.4 MB/s\u001b[0m eta \u001b[36m0:00:00\u001b[0m:00:01\u001b[0m00:01\u001b[0m\n\u001b[2K   \u001b[90m━━━━━━━━━━━━━━━━━━━━━━━━━━━━━━━━━━━━━━━━\u001b[0m \u001b[32m305.2/305.2 kB\u001b[0m \u001b[31m15.5 MB/s\u001b[0m eta \u001b[36m0:00:00\u001b[0m\n\u001b[2K   \u001b[90m━━━━━━━━━━━━━━━━━━━━━━━━━━━━━━━━━━━━━━━━\u001b[0m \u001b[32m102.7/102.7 kB\u001b[0m \u001b[31m5.7 MB/s\u001b[0m eta \u001b[36m0:00:00\u001b[0m\n\u001b[2K   \u001b[90m━━━━━━━━━━━━━━━━━━━━━━━━━━━━━━━━━━━━━━━━\u001b[0m \u001b[32m4.7/4.7 MB\u001b[0m \u001b[31m73.2 MB/s\u001b[0m eta \u001b[36m0:00:00\u001b[0m:00:01\u001b[0m\n\u001b[2K   \u001b[90m━━━━━━━━━━━━━━━━━━━━━━━━━━━━━━━━━━━━━━━━\u001b[0m \u001b[32m4.5/4.5 MB\u001b[0m \u001b[31m74.6 MB/s\u001b[0m eta \u001b[36m0:00:00\u001b[0m:00:01\u001b[0m\n\u001b[?25h  Building wheel for tabml (setup.py) ... \u001b[?25l\u001b[?25hdone\n  Building wheel for GPUtil (setup.py) ... \u001b[?25l\u001b[?25hdone\n\u001b[31mERROR: pip's dependency resolver does not currently take into account all the packages that are installed. This behaviour is the source of the following dependency conflicts.\ncartopy 0.24.1 requires numpy>=1.23, but you have numpy 1.22.4 which is incompatible.\nalbucore 0.0.19 requires numpy>=1.24.4, but you have numpy 1.22.4 which is incompatible.\nalbumentations 1.4.20 requires numpy>=1.24.4, but you have numpy 1.22.4 which is incompatible.\narviz 0.20.0 requires numpy>=1.23.0, but you have numpy 1.22.4 which is incompatible.\nastropy 6.1.7 requires numpy>=1.23, but you have numpy 1.22.4 which is incompatible.\nbayesian-optimization 2.0.3 requires numpy>=1.25, but you have numpy 1.22.4 which is incompatible.\nbigframes 1.29.0 requires numpy>=1.24.0, but you have numpy 1.22.4 which is incompatible.\nchex 0.1.88 requires numpy>=1.24.1, but you have numpy 1.22.4 which is incompatible.\ncudf-cu12 25.2.0 requires numpy<3.0a0,>=1.23, but you have numpy 1.22.4 which is incompatible.\ncuml-cu12 25.2.0 requires numpy<3.0a0,>=1.23, but you have numpy 1.22.4 which is incompatible.\ncuvs-cu12 25.2.0 requires numpy<3.0a0,>=1.23, but you have numpy 1.22.4 which is incompatible.\ndask-cuda 25.2.0 requires numpy<3.0a0,>=1.23, but you have numpy 1.22.4 which is incompatible.\ndask-cudf-cu12 25.2.0 requires numpy<3.0a0,>=1.23, but you have numpy 1.22.4 which is incompatible.\nfeaturetools 1.31.0 requires numpy>=1.25.0, but you have numpy 1.22.4 which is incompatible.\nibis-framework 9.2.0 requires numpy<3,>=1.23.2, but you have numpy 1.22.4 which is incompatible.\njax 0.4.33 requires numpy>=1.24, but you have numpy 1.22.4 which is incompatible.\njaxlib 0.4.33 requires numpy>=1.24, but you have numpy 1.22.4 which is incompatible.\nlangchain 0.3.12 requires async-timeout<5.0.0,>=4.0.0; python_version < \"3.11\", but you have async-timeout 5.0.1 which is incompatible.\nmizani 0.13.1 requires numpy>=1.23.5, but you have numpy 1.22.4 which is incompatible.\nmkl-fft 1.3.8 requires numpy<1.27.0,>=1.26.4, but you have numpy 1.22.4 which is incompatible.\nmkl-random 1.2.4 requires numpy<1.27.0,>=1.26.4, but you have numpy 1.22.4 which is incompatible.\nmkl-umath 0.1.1 requires numpy<1.27.0,>=1.26.4, but you have numpy 1.22.4 which is incompatible.\nmlxtend 0.23.3 requires scikit-learn>=1.3.1, but you have scikit-learn 1.2.2 which is incompatible.\nmne 1.9.0 requires numpy<3,>=1.23, but you have numpy 1.22.4 which is incompatible.\nnumexpr 2.10.2 requires numpy>=1.23.0, but you have numpy 1.22.4 which is incompatible.\nnx-cugraph-cu12 24.10.0 requires numpy<3.0a0,>=1.23, but you have numpy 1.22.4 which is incompatible.\npandas-gbq 0.25.0 requires google-api-core<3.0.0dev,>=2.10.2, but you have google-api-core 1.34.1 which is incompatible.\npandas-stubs 2.2.2.240909 requires numpy>=1.23.5, but you have numpy 1.22.4 which is incompatible.\nplotnine 0.14.4 requires matplotlib>=3.8.0, but you have matplotlib 3.7.5 which is incompatible.\nplotnine 0.14.4 requires numpy>=1.23.5, but you have numpy 1.22.4 which is incompatible.\npyldavis 3.4.1 requires numpy>=1.24.2, but you have numpy 1.22.4 which is incompatible.\npylibraft-cu12 25.2.0 requires numpy<3.0a0,>=1.23, but you have numpy 1.22.4 which is incompatible.\npymc 5.19.1 requires numpy>=1.25.0, but you have numpy 1.22.4 which is incompatible.\nrmm-cu12 25.2.0 requires numpy<3.0a0,>=1.23, but you have numpy 1.22.4 which is incompatible.\nscikit-image 0.25.0 requires numpy>=1.24, but you have numpy 1.22.4 which is incompatible.\ntensorflow 2.17.1 requires numpy<2.0.0,>=1.23.5; python_version <= \"3.11\", but you have numpy 1.22.4 which is incompatible.\ntensorflow-decision-forests 1.10.0 requires tensorflow==2.17.0, but you have tensorflow 2.17.1 which is incompatible.\nucx-py-cu12 0.42.0 requires numpy<3.0a0,>=1.23, but you have numpy 1.22.4 which is incompatible.\nucxx-cu12 0.42.0 requires numpy<3.0a0,>=1.23, but you have numpy 1.22.4 which is incompatible.\nwoodwork 0.31.0 requires numpy>=1.25.0, but you have numpy 1.22.4 which is incompatible.\nxarray 2024.11.0 requires numpy>=1.24, but you have numpy 1.22.4 which is incompatible.\nxarray-einstats 0.8.0 requires numpy>=1.23, but you have numpy 1.22.4 which is incompatible.\u001b[0m\u001b[31m\n\u001b[0m",
          "output_type": "stream"
        }
      ],
      "execution_count": null
    },
    {
      "cell_type": "code",
      "source": [
        "import tabml.datasets\n",
        "df_dict = tabml.datasets.download_movielen_1m()\n",
        "df_dict.keys()"
      ],
      "metadata": {
        "trusted": true,
        "execution": {
          "iopub.status.busy": "2025-03-19T00:20:03.29717Z",
          "iopub.execute_input": "2025-03-19T00:20:03.297382Z",
          "iopub.status.idle": "2025-03-19T00:20:07.932415Z",
          "shell.execute_reply.started": "2025-03-19T00:20:03.297363Z",
          "shell.execute_reply": "2025-03-19T00:20:07.931502Z"
        },
        "id": "nvWgB9_ySl79",
        "outputId": "50089131-0912-40d9-85b3-bfc276eb1bb0"
      },
      "outputs": [
        {
          "execution_count": 7,
          "output_type": "execute_result",
          "data": {
            "text/plain": "dict_keys(['users', 'movies', 'ratings'])"
          },
          "metadata": {}
        }
      ],
      "execution_count": null
    },
    {
      "cell_type": "code",
      "source": [
        "ratings = df_dict[\"ratings\"]\n",
        "ratings.head(10)"
      ],
      "metadata": {
        "trusted": true,
        "execution": {
          "iopub.status.busy": "2025-03-19T00:20:07.933681Z",
          "iopub.execute_input": "2025-03-19T00:20:07.933876Z",
          "iopub.status.idle": "2025-03-19T00:20:07.954256Z",
          "shell.execute_reply.started": "2025-03-19T00:20:07.933859Z",
          "shell.execute_reply": "2025-03-19T00:20:07.953254Z"
        },
        "id": "uLqtUNd_Sl7-",
        "outputId": "da7b12b6-9fcf-4c03-e5bf-9ee60026eeac"
      },
      "outputs": [
        {
          "execution_count": 8,
          "output_type": "execute_result",
          "data": {
            "text/plain": "   UserID  MovieID  Rating  Timestamp\n0       1     1193       5  978300760\n1       1      661       3  978302109\n2       1      914       3  978301968\n3       1     3408       4  978300275\n4       1     2355       5  978824291\n5       1     1197       3  978302268\n6       1     1287       5  978302039\n7       1     2804       5  978300719\n8       1      594       4  978302268\n9       1      919       4  978301368",
            "text/html": "<div>\n<style scoped>\n    .dataframe tbody tr th:only-of-type {\n        vertical-align: middle;\n    }\n\n    .dataframe tbody tr th {\n        vertical-align: top;\n    }\n\n    .dataframe thead th {\n        text-align: right;\n    }\n</style>\n<table border=\"1\" class=\"dataframe\">\n  <thead>\n    <tr style=\"text-align: right;\">\n      <th></th>\n      <th>UserID</th>\n      <th>MovieID</th>\n      <th>Rating</th>\n      <th>Timestamp</th>\n    </tr>\n  </thead>\n  <tbody>\n    <tr>\n      <th>0</th>\n      <td>1</td>\n      <td>1193</td>\n      <td>5</td>\n      <td>978300760</td>\n    </tr>\n    <tr>\n      <th>1</th>\n      <td>1</td>\n      <td>661</td>\n      <td>3</td>\n      <td>978302109</td>\n    </tr>\n    <tr>\n      <th>2</th>\n      <td>1</td>\n      <td>914</td>\n      <td>3</td>\n      <td>978301968</td>\n    </tr>\n    <tr>\n      <th>3</th>\n      <td>1</td>\n      <td>3408</td>\n      <td>4</td>\n      <td>978300275</td>\n    </tr>\n    <tr>\n      <th>4</th>\n      <td>1</td>\n      <td>2355</td>\n      <td>5</td>\n      <td>978824291</td>\n    </tr>\n    <tr>\n      <th>5</th>\n      <td>1</td>\n      <td>1197</td>\n      <td>3</td>\n      <td>978302268</td>\n    </tr>\n    <tr>\n      <th>6</th>\n      <td>1</td>\n      <td>1287</td>\n      <td>5</td>\n      <td>978302039</td>\n    </tr>\n    <tr>\n      <th>7</th>\n      <td>1</td>\n      <td>2804</td>\n      <td>5</td>\n      <td>978300719</td>\n    </tr>\n    <tr>\n      <th>8</th>\n      <td>1</td>\n      <td>594</td>\n      <td>4</td>\n      <td>978302268</td>\n    </tr>\n    <tr>\n      <th>9</th>\n      <td>1</td>\n      <td>919</td>\n      <td>4</td>\n      <td>978301368</td>\n    </tr>\n  </tbody>\n</table>\n</div>"
          },
          "metadata": {}
        }
      ],
      "execution_count": null
    },
    {
      "cell_type": "code",
      "source": [
        "ratings[\"Rating\"].plot.hist()"
      ],
      "metadata": {
        "trusted": true,
        "execution": {
          "iopub.status.busy": "2025-03-19T00:20:07.955493Z",
          "iopub.execute_input": "2025-03-19T00:20:07.955777Z",
          "iopub.status.idle": "2025-03-19T00:20:08.286017Z",
          "shell.execute_reply.started": "2025-03-19T00:20:07.955753Z",
          "shell.execute_reply": "2025-03-19T00:20:08.284829Z"
        },
        "id": "mucpJgrSSl7_",
        "outputId": "c21909d8-0fb3-4b05-856f-3ae5b0c3b74d"
      },
      "outputs": [
        {
          "execution_count": 9,
          "output_type": "execute_result",
          "data": {
            "text/plain": "<Axes: ylabel='Frequency'>"
          },
          "metadata": {}
        },
        {
          "output_type": "display_data",
          "data": {
            "text/plain": "<Figure size 640x480 with 1 Axes>",
            "image/png": "[encoded data removed]"
          },
          "metadata": {}
        }
      ],
      "execution_count": null
    },
    {
      "cell_type": "code",
      "source": [
        "users = df_dict['users']\n",
        "movies = df_dict['movies']\n",
        "ratings = df_dict['ratings']\n",
        "users.head()"
      ],
      "metadata": {
        "trusted": true,
        "execution": {
          "iopub.status.busy": "2025-03-19T00:20:08.286866Z",
          "iopub.execute_input": "2025-03-19T00:20:08.287094Z",
          "iopub.status.idle": "2025-03-19T00:20:08.295141Z",
          "shell.execute_reply.started": "2025-03-19T00:20:08.287076Z",
          "shell.execute_reply": "2025-03-19T00:20:08.294175Z"
        },
        "id": "uVS7OYgvSl8A",
        "outputId": "f442fc20-0e09-4514-dab5-f2112080cfa6"
      },
      "outputs": [
        {
          "execution_count": 10,
          "output_type": "execute_result",
          "data": {
            "text/plain": "   UserID Gender  Age  Occupation Zip-code\n0       1      F    1          10    48067\n1       2      M   56          16    70072\n2       3      M   25          15    55117\n3       4      M   45           7    02460\n4       5      M   25          20    55455",
            "text/html": "<div>\n<style scoped>\n    .dataframe tbody tr th:only-of-type {\n        vertical-align: middle;\n    }\n\n    .dataframe tbody tr th {\n        vertical-align: top;\n    }\n\n    .dataframe thead th {\n        text-align: right;\n    }\n</style>\n<table border=\"1\" class=\"dataframe\">\n  <thead>\n    <tr style=\"text-align: right;\">\n      <th></th>\n      <th>UserID</th>\n      <th>Gender</th>\n      <th>Age</th>\n      <th>Occupation</th>\n      <th>Zip-code</th>\n    </tr>\n  </thead>\n  <tbody>\n    <tr>\n      <th>0</th>\n      <td>1</td>\n      <td>F</td>\n      <td>1</td>\n      <td>10</td>\n      <td>48067</td>\n    </tr>\n    <tr>\n      <th>1</th>\n      <td>2</td>\n      <td>M</td>\n      <td>56</td>\n      <td>16</td>\n      <td>70072</td>\n    </tr>\n    <tr>\n      <th>2</th>\n      <td>3</td>\n      <td>M</td>\n      <td>25</td>\n      <td>15</td>\n      <td>55117</td>\n    </tr>\n    <tr>\n      <th>3</th>\n      <td>4</td>\n      <td>M</td>\n      <td>45</td>\n      <td>7</td>\n      <td>02460</td>\n    </tr>\n    <tr>\n      <th>4</th>\n      <td>5</td>\n      <td>M</td>\n      <td>25</td>\n      <td>20</td>\n      <td>55455</td>\n    </tr>\n  </tbody>\n</table>\n</div>"
          },
          "metadata": {}
        }
      ],
      "execution_count": null
    },
    {
      "cell_type": "code",
      "source": [
        "movies.head()"
      ],
      "metadata": {
        "trusted": true,
        "execution": {
          "iopub.status.busy": "2025-03-19T00:20:08.295872Z",
          "iopub.execute_input": "2025-03-19T00:20:08.29617Z",
          "iopub.status.idle": "2025-03-19T00:20:08.315035Z",
          "shell.execute_reply.started": "2025-03-19T00:20:08.296146Z",
          "shell.execute_reply": "2025-03-19T00:20:08.314405Z"
        },
        "id": "0Z60IKZ3Sl8B",
        "outputId": "ac0f4284-dbe0-4a93-acab-19443e562db0"
      },
      "outputs": [
        {
          "execution_count": 11,
          "output_type": "execute_result",
          "data": {
            "text/plain": "   MovieID                               Title                        Genres\n0        1                    Toy Story (1995)   Animation|Children's|Comedy\n1        2                      Jumanji (1995)  Adventure|Children's|Fantasy\n2        3             Grumpier Old Men (1995)                Comedy|Romance\n3        4            Waiting to Exhale (1995)                  Comedy|Drama\n4        5  Father of the Bride Part II (1995)                        Comedy",
            "text/html": "<div>\n<style scoped>\n    .dataframe tbody tr th:only-of-type {\n        vertical-align: middle;\n    }\n\n    .dataframe tbody tr th {\n        vertical-align: top;\n    }\n\n    .dataframe thead th {\n        text-align: right;\n    }\n</style>\n<table border=\"1\" class=\"dataframe\">\n  <thead>\n    <tr style=\"text-align: right;\">\n      <th></th>\n      <th>MovieID</th>\n      <th>Title</th>\n      <th>Genres</th>\n    </tr>\n  </thead>\n  <tbody>\n    <tr>\n      <th>0</th>\n      <td>1</td>\n      <td>Toy Story (1995)</td>\n      <td>Animation|Children's|Comedy</td>\n    </tr>\n    <tr>\n      <th>1</th>\n      <td>2</td>\n      <td>Jumanji (1995)</td>\n      <td>Adventure|Children's|Fantasy</td>\n    </tr>\n    <tr>\n      <th>2</th>\n      <td>3</td>\n      <td>Grumpier Old Men (1995)</td>\n      <td>Comedy|Romance</td>\n    </tr>\n    <tr>\n      <th>3</th>\n      <td>4</td>\n      <td>Waiting to Exhale (1995)</td>\n      <td>Comedy|Drama</td>\n    </tr>\n    <tr>\n      <th>4</th>\n      <td>5</td>\n      <td>Father of the Bride Part II (1995)</td>\n      <td>Comedy</td>\n    </tr>\n  </tbody>\n</table>\n</div>"
          },
          "metadata": {}
        }
      ],
      "execution_count": null
    },
    {
      "cell_type": "code",
      "source": [
        "ratings.head()"
      ],
      "metadata": {
        "trusted": true,
        "execution": {
          "iopub.status.busy": "2025-03-19T00:18:58.012678Z",
          "iopub.status.idle": "2025-03-19T00:18:58.012909Z",
          "shell.execute_reply": "2025-03-19T00:18:58.012818Z"
        },
        "id": "JEFS5BF6Sl8B"
      },
      "outputs": [],
      "execution_count": null
    },
    {
      "cell_type": "code",
      "source": [
        "movie_rating = ratings.merge(movies, on='MovieID', how='left')\n",
        "movie_rating.head()"
      ],
      "metadata": {
        "trusted": true,
        "execution": {
          "iopub.status.busy": "2025-03-19T00:31:01.698638Z",
          "iopub.execute_input": "2025-03-19T00:31:01.698973Z",
          "iopub.status.idle": "2025-03-19T00:31:01.800626Z",
          "shell.execute_reply.started": "2025-03-19T00:31:01.698946Z",
          "shell.execute_reply": "2025-03-19T00:31:01.799737Z"
        },
        "id": "gV3zu_AOSl8C",
        "outputId": "bad7f786-cca2-4c00-8dd2-d01dcfdc46a3"
      },
      "outputs": [
        {
          "execution_count": 21,
          "output_type": "execute_result",
          "data": {
            "text/plain": "   UserID  MovieID  Rating  Timestamp                                   Title  \\\n0       1     1193       5  978300760  One Flew Over the Cuckoo's Nest (1975)   \n1       1      661       3  978302109        James and the Giant Peach (1996)   \n2       1      914       3  978301968                     My Fair Lady (1964)   \n3       1     3408       4  978300275                  Erin Brockovich (2000)   \n4       1     2355       5  978824291                    Bug's Life, A (1998)   \n\n                         Genres  \n0                         Drama  \n1  Animation|Children's|Musical  \n2               Musical|Romance  \n3                         Drama  \n4   Animation|Children's|Comedy  ",
            "text/html": "<div>\n<style scoped>\n    .dataframe tbody tr th:only-of-type {\n        vertical-align: middle;\n    }\n\n    .dataframe tbody tr th {\n        vertical-align: top;\n    }\n\n    .dataframe thead th {\n        text-align: right;\n    }\n</style>\n<table border=\"1\" class=\"dataframe\">\n  <thead>\n    <tr style=\"text-align: right;\">\n      <th></th>\n      <th>UserID</th>\n      <th>MovieID</th>\n      <th>Rating</th>\n      <th>Timestamp</th>\n      <th>Title</th>\n      <th>Genres</th>\n    </tr>\n  </thead>\n  <tbody>\n    <tr>\n      <th>0</th>\n      <td>1</td>\n      <td>1193</td>\n      <td>5</td>\n      <td>978300760</td>\n      <td>One Flew Over the Cuckoo's Nest (1975)</td>\n      <td>Drama</td>\n    </tr>\n    <tr>\n      <th>1</th>\n      <td>1</td>\n      <td>661</td>\n      <td>3</td>\n      <td>978302109</td>\n      <td>James and the Giant Peach (1996)</td>\n      <td>Animation|Children's|Musical</td>\n    </tr>\n    <tr>\n      <th>2</th>\n      <td>1</td>\n      <td>914</td>\n      <td>3</td>\n      <td>978301968</td>\n      <td>My Fair Lady (1964)</td>\n      <td>Musical|Romance</td>\n    </tr>\n    <tr>\n      <th>3</th>\n      <td>1</td>\n      <td>3408</td>\n      <td>4</td>\n      <td>978300275</td>\n      <td>Erin Brockovich (2000)</td>\n      <td>Drama</td>\n    </tr>\n    <tr>\n      <th>4</th>\n      <td>1</td>\n      <td>2355</td>\n      <td>5</td>\n      <td>978824291</td>\n      <td>Bug's Life, A (1998)</td>\n      <td>Animation|Children's|Comedy</td>\n    </tr>\n  </tbody>\n</table>\n</div>"
          },
          "metadata": {}
        }
      ],
      "execution_count": null
    },
    {
      "cell_type": "markdown",
      "source": [
        "## Data extraction and Loading"
      ],
      "metadata": {
        "id": "qryfWvJNSl8E"
      }
    },
    {
      "cell_type": "code",
      "source": [
        "from tqdm import tqdm  # ✅ Correct import\n",
        "import random\n",
        "\n",
        "a = [random.randint(1, 100) for _ in range(100)]\n",
        "for i, u in enumerate(tqdm(a)):\n",
        "    pass"
      ],
      "metadata": {
        "trusted": true,
        "execution": {
          "iopub.status.busy": "2025-03-19T00:40:59.746464Z",
          "iopub.execute_input": "2025-03-19T00:40:59.746784Z",
          "iopub.status.idle": "2025-03-19T00:40:59.754232Z",
          "shell.execute_reply.started": "2025-03-19T00:40:59.746758Z",
          "shell.execute_reply": "2025-03-19T00:40:59.753177Z"
        },
        "id": "UcyP2ItFSl8F",
        "outputId": "015a4e26-9c1b-48b4-eaab-23ddc86853c5"
      },
      "outputs": [
        {
          "name": "stderr",
          "text": "100%|██████████| 100/100 [00:00<00:00, 683111.40it/s]\n",
          "output_type": "stream"
        }
      ],
      "execution_count": null
    },
    {
      "cell_type": "code",
      "source": [
        "class DataGenerator():\n",
        "\n",
        "    def __init__ (self):\n",
        "        self.mr = movie_rating.head()\n",
        "        self.users = self.mr['UserID'].unique()\n",
        "        self.movie = self.mr['MovieID'].unique()\n",
        "        self.hist = self.generate_history_function()\n",
        "\n",
        "    def generate_history_function(self):\n",
        "        '''\n",
        "        Group all rates given by users ad store them from older to most recent based on time\n",
        "        '''\n",
        "        historic_users = []\n",
        "        for i, u in enumerate(tqdm(self.users)):\n",
        "            movie_watched = self.mr[self.mr['UserID'] == u]\n",
        "            movie_watched = movie_watched.sort_values('Timestamp').reset_index(drop=True)\n",
        "            historic_users.append(movie_watched)\n",
        "\n",
        "        return historic_users\n",
        "    def sample_history(self, user_hist, action_ratio=0.8, max_samp_by_user=5, max_state=100,\n",
        "                       max_action=50, n_states=[], n_actions=[])\n",
        "        '''\n",
        "        Making multiple samples for a given historic set, based on some number of states and actions\n",
        "        '''\n",
        "\n",
        "        n = len(user_hist)\n",
        "        sep = int(action_ration * n)\n",
        "        n_sample = random.randin(1, max_samp_by_user)\n",
        "        if not n_staets:\n",
        "            n_states = [min(random.randint(1, sep), max_state), for _ in range(n_sample)]\n",
        "        if not n_actions:\n",
        "            n_actions = [min(random.randint(1, n - sep), max_action) for _ in range(n_sample)]\n",
        "\n",
        "        assert len(n_states) == len(n_actions), 'Must have same size'\n",
        "\n",
        "        states = []\n",
        "        actions = []\n",
        "\n",
        "        for i in range(len(n_states)):\n",
        "            sample_states = user_hist.iloc[0:sep].sample(n_states[i])\n",
        "            sample_actions = user_hist.iloc[-(n-sep):].sample(n_actions[i])\n",
        ""
      ],
      "metadata": {
        "trusted": true,
        "execution": {
          "iopub.status.busy": "2025-03-19T00:41:28.040881Z",
          "iopub.execute_input": "2025-03-19T00:41:28.041154Z",
          "iopub.status.idle": "2025-03-19T00:41:28.046354Z",
          "shell.execute_reply.started": "2025-03-19T00:41:28.041133Z",
          "shell.execute_reply": "2025-03-19T00:41:28.045277Z"
        },
        "id": "UrnGiHluSl8G"
      },
      "outputs": [],
      "execution_count": null
    },
    {
      "cell_type": "code",
      "source": [
        "generator = DataGenerator()\n",
        "generator.generate_history_function()"
      ],
      "metadata": {
        "trusted": true,
        "execution": {
          "iopub.status.busy": "2025-03-19T00:42:05.93807Z",
          "iopub.execute_input": "2025-03-19T00:42:05.938411Z",
          "iopub.status.idle": "2025-03-19T00:42:05.954895Z",
          "shell.execute_reply.started": "2025-03-19T00:42:05.938385Z",
          "shell.execute_reply": "2025-03-19T00:42:05.95406Z"
        },
        "id": "9maBejNwSl8G",
        "outputId": "a3f350ae-e202-498a-e5dc-121c99f8e1c4"
      },
      "outputs": [
        {
          "name": "stderr",
          "text": "100%|██████████| 1/1 [00:00<00:00, 923.25it/s]\n100%|██████████| 1/1 [00:00<00:00, 428.69it/s]\n",
          "output_type": "stream"
        },
        {
          "execution_count": 54,
          "output_type": "execute_result",
          "data": {
            "text/plain": "[   UserID  MovieID  Rating  Timestamp                                   Title  \\\n 0       1     3408       4  978300275                  Erin Brockovich (2000)   \n 1       1     1193       5  978300760  One Flew Over the Cuckoo's Nest (1975)   \n 2       1      914       3  978301968                     My Fair Lady (1964)   \n 3       1      661       3  978302109        James and the Giant Peach (1996)   \n 4       1     2355       5  978824291                    Bug's Life, A (1998)   \n \n                          Genres  \n 0                         Drama  \n 1                         Drama  \n 2               Musical|Romance  \n 3  Animation|Children's|Musical  \n 4   Animation|Children's|Comedy  ]"
          },
          "metadata": {}
        }
      ],
      "execution_count": null
    }
  ]
}